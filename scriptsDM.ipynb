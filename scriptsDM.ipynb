{
 "cells": [
  {
   "cell_type": "code",
   "execution_count": 16,
   "metadata": {},
   "outputs": [],
   "source": [
    "import math"
   ]
  },
  {
   "cell_type": "markdown",
   "metadata": {},
   "source": [
    "# Distances"
   ]
  },
  {
   "cell_type": "code",
   "execution_count": 17,
   "metadata": {},
   "outputs": [],
   "source": [
    "#Manhattan\n",
    "def manhattan_dist(p1: tuple,p2: tuple):\n",
    "    return (abs(p1[0]-p2[0])+abs(p1[1]-p2[1]))"
   ]
  },
  {
   "cell_type": "code",
   "execution_count": 18,
   "metadata": {},
   "outputs": [],
   "source": [
    "#Euclidean\n",
    "def euclidean_dist(p1: tuple,p2: tuple):\n",
    "    return math.sqrt((p1[0]-p2[0])**2 + (p1[1]-p2[1])**2)"
   ]
  },
  {
   "cell_type": "code",
   "execution_count": 19,
   "metadata": {},
   "outputs": [],
   "source": [
    "#Chebyshev\n",
    "def chebyshev_dist(p1: tuple,p2: tuple):\n",
    "    return max(abs(p1[0]-p2[0]),abs(p1[1]-p2[1]))"
   ]
  },
  {
   "cell_type": "markdown",
   "metadata": {},
   "source": [
    "# Normalization"
   ]
  },
  {
   "cell_type": "code",
   "execution_count": 20,
   "metadata": {},
   "outputs": [],
   "source": [
    "#Min-Max-Norm\n",
    "def min_max_norm(l: list):\n",
    "    ma = max(l)\n",
    "    mi = min(l)\n",
    "    li = [(i - mi)/(ma-mi) for i in l]\n",
    "    return li"
   ]
  },
  {
   "cell_type": "code",
   "execution_count": 21,
   "metadata": {},
   "outputs": [],
   "source": [
    "#Z-Norm\n",
    "from statistics import variance, mean\n",
    "def z_norm(l: list):\n",
    "    v = variance(l)\n",
    "    m = mean(l)\n",
    "    li = [(i-m)/math.sqrt(v) for i in l]\n",
    "    return li"
   ]
  },
  {
   "cell_type": "markdown",
   "metadata": {},
   "source": [
    "# Metrics"
   ]
  },
  {
   "cell_type": "code",
   "execution_count": 22,
   "metadata": {},
   "outputs": [],
   "source": [
    "from sklearn.metrics import accuracy_score\n",
    "from sklearn.metrics import f1_score\n",
    "from sklearn.metrics import recall_score\n",
    "from sklearn.metrics import precision_score\n",
    "from sklearn.metrics import confusion_matrix\n",
    "\n",
    "#Call these functions with the arguments (ground-truth, prediction)"
   ]
  },
  {
   "cell_type": "markdown",
   "metadata": {},
   "source": [
    "# Entropy, Information Gain, Gain Ratio, Gini Index"
   ]
  },
  {
   "cell_type": "code",
   "execution_count": 102,
   "metadata": {},
   "outputs": [
    {
     "data": {
      "text/plain": [
       "0.2812908992306925"
      ]
     },
     "execution_count": 102,
     "metadata": {},
     "output_type": "execute_result"
    }
   ],
   "source": [
    "#Entropy\n",
    "from math import log2\n",
    "import pandas as pd\n",
    "def entropy(entropy_row, class_row):\n",
    "    data = pd.concat([entropy_row, class_row], axis=1)\n",
    "    data.set_axis(['Entropy', 'Class'], axis=1, inplace=True)\n",
    "    data = data.groupby([l for l in data.columns]).size().reset_index(name='Count')\n",
    "\n",
    "    dic = {}\n",
    "    for val in entropy_row.unique():\n",
    "        d = data[data.Entropy == val]\n",
    "        l = sum(d[\"Count\"])\n",
    "        dic[val] = -sum([((i/l)*log2(i/l)) for i in d[\"Count\"]])\n",
    "\n",
    "    e = 0  \n",
    "    l = len(class_row)  \n",
    "    for i in class_row.value_counts():\n",
    "        e += (-(i/l)*log2(i/l))\n",
    "    return dic, e\n",
    "\n",
    "#Information Gain\n",
    "def inf_gain(entropy_row, class_row):\n",
    "    ent, whole_set = entropy(entropy_row,class_row)\n",
    "    l = len(entropy_row)\n",
    "    t = entropy_row.value_counts()\n",
    "    \n",
    "    for val in entropy_row.unique():\n",
    "        whole_set -= ((t[val]/l)*ent[val])\n",
    "\n",
    "    return whole_set\n",
    "\n",
    "d = {'Genre': [\"Action\", \"Action\", \"Action\", \"Adventure\",\"Adventure\", \"Adventure\",\"Adventure\", \"Adventure\",\"Adventure\", \"Adventure\"],\n",
    "    'Buy': [\"No\",\"No\",\"No\",\"Yes\",\"Yes\",\"No\",\"No\",\"Yes\",\"Yes\",\"No\"]}\n",
    "df = pd.DataFrame(data=d)\n",
    " \n",
    "inf_gain(df.Genre, df.Buy)"
   ]
  },
  {
   "cell_type": "code",
   "execution_count": null,
   "metadata": {},
   "outputs": [],
   "source": []
  },
  {
   "cell_type": "markdown",
   "metadata": {},
   "source": [
    "# Classification and clustering"
   ]
  },
  {
   "cell_type": "code",
   "execution_count": null,
   "metadata": {},
   "outputs": [],
   "source": []
  }
 ],
 "metadata": {
  "kernelspec": {
   "display_name": "Python 3.9.12 ('base')",
   "language": "python",
   "name": "python3"
  },
  "language_info": {
   "codemirror_mode": {
    "name": "ipython",
    "version": 3
   },
   "file_extension": ".py",
   "mimetype": "text/x-python",
   "name": "python",
   "nbconvert_exporter": "python",
   "pygments_lexer": "ipython3",
   "version": "3.9.12"
  },
  "orig_nbformat": 4,
  "vscode": {
   "interpreter": {
    "hash": "24cd5c2f30858a0d9bc1d12d892ca26d1a556e72a0d5b4289d39a1c46964c99a"
   }
  }
 },
 "nbformat": 4,
 "nbformat_minor": 2
}
