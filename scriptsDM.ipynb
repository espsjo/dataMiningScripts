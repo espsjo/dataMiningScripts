{
 "cells": [
  {
   "cell_type": "code",
   "execution_count": 4,
   "metadata": {},
   "outputs": [],
   "source": [
    "import math"
   ]
  },
  {
   "cell_type": "markdown",
   "metadata": {},
   "source": [
    "# Distances"
   ]
  },
  {
   "cell_type": "code",
   "execution_count": 4,
   "metadata": {},
   "outputs": [],
   "source": [
    "#Manhattan\n",
    "def manhattan_dist(p1: tuple,p2: tuple):\n",
    "    return (abs(p1[0]-p2[0])+abs(p1[1]-p2[1]))"
   ]
  },
  {
   "cell_type": "code",
   "execution_count": 5,
   "metadata": {},
   "outputs": [],
   "source": [
    "#Euclidean\n",
    "def euclidean_dist(p1: tuple,p2: tuple):\n",
    "    return math.sqrt((p1[0]-p2[0])**2 + (p1[1]-p2[1])**2)"
   ]
  },
  {
   "cell_type": "code",
   "execution_count": 6,
   "metadata": {},
   "outputs": [],
   "source": [
    "#Chebyshev\n",
    "def chebyshev_dist(p1: tuple,p2: tuple):\n",
    "    return max(abs(p1[0]-p2[0]),abs(p1[1]-p2[1]))"
   ]
  },
  {
   "cell_type": "markdown",
   "metadata": {},
   "source": [
    "# Normalization"
   ]
  },
  {
   "cell_type": "code",
   "execution_count": 1,
   "metadata": {},
   "outputs": [],
   "source": [
    "#Min-Max-Norm\n",
    "def min_max_norm(l: list):\n",
    "    ma = max(l)\n",
    "    mi = min(l)\n",
    "    li = [(i - mi)/(ma-mi) for i in l]\n",
    "    return li"
   ]
  },
  {
   "cell_type": "code",
   "execution_count": 5,
   "metadata": {},
   "outputs": [],
   "source": [
    "#Z-Norm\n",
    "from statistics import variance, mean\n",
    "def z_norm(l: list):\n",
    "    v = variance(l)\n",
    "    m = mean(l)\n",
    "    li = [(i-m)/math.sqrt(v) for i in l]\n",
    "    return li"
   ]
  },
  {
   "cell_type": "markdown",
   "metadata": {},
   "source": [
    "# Metrics"
   ]
  },
  {
   "cell_type": "code",
   "execution_count": 6,
   "metadata": {},
   "outputs": [],
   "source": [
    "from sklearn.metrics import accuracy_score\n",
    "from sklearn.metrics import f1_score\n",
    "from sklearn.metrics import recall_score\n",
    "from sklearn.metrics import precision_score\n",
    "from sklearn.metrics import confusion_matrix\n",
    "\n",
    "#Call these functions with the arguments (ground-truth, prediction)"
   ]
  },
  {
   "cell_type": "code",
   "execution_count": null,
   "metadata": {},
   "outputs": [],
   "source": [
    "import pandas as pd\n",
    "def entropy(df: pd.DataFrame, class_row):\n",
    "    ...\n",
    "    "
   ]
  }
 ],
 "metadata": {
  "kernelspec": {
   "display_name": "Python 3.9.12 ('base')",
   "language": "python",
   "name": "python3"
  },
  "language_info": {
   "codemirror_mode": {
    "name": "ipython",
    "version": 3
   },
   "file_extension": ".py",
   "mimetype": "text/x-python",
   "name": "python",
   "nbconvert_exporter": "python",
   "pygments_lexer": "ipython3",
   "version": "3.9.12"
  },
  "orig_nbformat": 4,
  "vscode": {
   "interpreter": {
    "hash": "24cd5c2f30858a0d9bc1d12d892ca26d1a556e72a0d5b4289d39a1c46964c99a"
   }
  }
 },
 "nbformat": 4,
 "nbformat_minor": 2
}
